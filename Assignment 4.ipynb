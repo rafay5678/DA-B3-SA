{
 "cells": [
  {
   "cell_type": "markdown",
   "id": "e95a044d-6d76-48cd-b082-5590f9eebc39",
   "metadata": {},
   "source": [
    "Q1.\n",
    "\n",
    "An e-commerce store stores information about its products in a nested dictionary. The outer dictionary uses product IDs as keys, and the inner dictionary stores product details like name, category, price, and stock quantity. products = { 101: {\"name\": \"Laptop\", \"category\": \"Electronics\", \"price\": 1200, \"stock\": 50}, 102: {\"name\": \"Shirt\", \"category\": \"Apparel\", \"price\": 25, \"stock\": 200}, 103: {\"name\": \"Coffee Maker\", \"category\": \"Home Appliances\", \"price\": 80, \"stock\": 30} }\n",
    "\n",
    "• Increase the stock of the \"Shirt\" product (add 50 more units)\n",
    "\n",
    "• Add a new product (e.g., \"Smartphone\")"
   ]
  },
  {
   "cell_type": "code",
   "execution_count": 1,
   "id": "fb978c2f-197c-4ed2-8d85-272e5930cfd9",
   "metadata": {},
   "outputs": [],
   "source": [
    "products = {\n",
    "    101: {\"name\":\"Laptop\",\"category\":\"Electronics\",\"price\":1200,\"stock\":50},\n",
    "    102: {\"name\":\"Shirt\",\"category\":\"Apparel\",\"price\":25,\"stock\":200},\n",
    "    103: {\"name\":\"Coffee Maker\",\"category\":\"Home Appliaces\",\"price\":80,\"stock\":30}  \n",
    "}"
   ]
  },
  {
   "cell_type": "code",
   "execution_count": 3,
   "id": "bd234a36-b95a-4976-b018-18d26a7c4b08",
   "metadata": {},
   "outputs": [
    {
     "name": "stdout",
     "output_type": "stream",
     "text": [
      "{101: {'name': 'Laptop', 'category': 'Electronics', 'price': 1200, 'stock': 50}, 102: {'name': 'Shirt', 'category': 'Apparel', 'price': 25, 'stock': 250}, 103: {'name': 'Coffee Maker', 'category': 'Home Appliaces', 'price': 80, 'stock': 30}}\n"
     ]
    }
   ],
   "source": [
    "#Increase the stock of the \"Shirt\" product (add 50 more units)\n",
    "products[102][\"stock\"] += 50\n",
    "print(products)"
   ]
  },
  {
   "cell_type": "code",
   "execution_count": 5,
   "id": "423f0acf-3b74-45b4-afdb-92d6b3150bf6",
   "metadata": {},
   "outputs": [
    {
     "name": "stdout",
     "output_type": "stream",
     "text": [
      "{101: {'name': 'Laptop', 'category': 'Electronics', 'price': 1200, 'stock': 50}, 102: {'name': 'Shirt', 'category': 'Apparel', 'price': 25, 'stock': 250}, 103: {'name': 'Coffee Maker', 'category': 'Home Appliaces', 'price': 80, 'stock': 30}, 104: {'name': 'Smartphone', 'category': 'Electronis', 'price': 25000, 'stock': 50}}\n"
     ]
    }
   ],
   "source": [
    "#Add a new product (e.g \"Smartphone\")\n",
    "products[104] = {\n",
    "    \"name\": \"Smartphone\",\n",
    "    \"category\":\"Electronis\",\n",
    "    \"price\":25000,\n",
    "    \"stock\":50   \n",
    "}\n",
    "print(products)\n"
   ]
  },
  {
   "cell_type": "markdown",
   "id": "e43959b7-691c-428b-a182-ddd3579f9ba0",
   "metadata": {},
   "source": [
    "Q2.\n",
    "\n",
    "You are given a list that contains some duplicate items. Remove the duplicates\n",
    "\n",
    "shopping_list = [\"apple\", \"banana\", \"apple\", \"orange\", \"banana\", \"grape\"]\n"
   ]
  },
  {
   "cell_type": "code",
   "execution_count": 7,
   "id": "bf7c0aaa-0070-4128-acd2-abf6c053738f",
   "metadata": {},
   "outputs": [
    {
     "name": "stdout",
     "output_type": "stream",
     "text": [
      "['grape', 'apple', 'banana', 'orange']\n"
     ]
    }
   ],
   "source": [
    "shopping_list = [\"apple\",\"banana\",\"apple\",\"orange\",\"banana\",\"grape\"]\n",
    "unique_items = list(set(shopping_list))\n",
    "print(unique_items)"
   ]
  },
  {
   "cell_type": "markdown",
   "id": "ccc809be-a540-402b-b162-ee8910c820f5",
   "metadata": {},
   "source": [
    "Q3.\n",
    "\n",
    "You are managing a list of students enrolled in two different courses. You need to perform various set operations to understand the student enrollment. Task: Create two sets: one for students in \"Course A\" and one for students in \"Course B\". Find the students who are in \"Course A\" but not in \"Course B\" (difference). Find students who are only in one of the two courses (symmetric difference). \n",
    "\n",
    "course_a = {\"John\", \"Alice\", \"Bob\", \"David\"} \n",
    "\n",
    "course_b = {\"Alice\", \"Eve\", \"Charlie\", \"David\"}\n",
    "\n",
    "• Find students who are in Course A but not in Course B (difference)\n",
    "\n",
    "• Find students who are only in one of the two courses (symmetric difference)\n"
   ]
  },
  {
   "cell_type": "code",
   "execution_count": 12,
   "id": "c0badbd3-947b-473a-9021-0f35a4abd8bc",
   "metadata": {},
   "outputs": [],
   "source": [
    "course_a = {\"John\",\"Alice\",\"Bob\",\"David\"}\n",
    "course_b = {\"Alice\",\"Eve\",\"Charlie\",\"David\"}"
   ]
  },
  {
   "cell_type": "code",
   "execution_count": 14,
   "id": "f3ba6281-04ee-4afb-b729-2eb9c58ab2e1",
   "metadata": {},
   "outputs": [
    {
     "name": "stdout",
     "output_type": "stream",
     "text": [
      "{'Bob', 'John'}\n"
     ]
    }
   ],
   "source": [
    "#Students who are in Course A but not in Course B (difference)\n",
    "Students_in_Course_A = course_a - course_b\n",
    "print(Students_in_Course_A)"
   ]
  },
  {
   "cell_type": "code",
   "execution_count": 16,
   "id": "f03b9595-9e36-47a3-896d-40994ae9e060",
   "metadata": {},
   "outputs": [
    {
     "name": "stdout",
     "output_type": "stream",
     "text": [
      "{'Charlie', 'Eve', 'Bob', 'John'}\n"
     ]
    }
   ],
   "source": [
    "#Students who are only in one of the two courses (symmetric difference)\n",
    "Students_only_in_one_Course = course_a ^ course_b\n",
    "print(Students_only_in_one_Course)"
   ]
  },
  {
   "cell_type": "markdown",
   "id": "1119bddc-8eef-4e2f-8321-04d79ef47518",
   "metadata": {},
   "source": [
    "Q4.\n",
    "\n",
    "Write a Python program that calculates the sum of all even numbers between 1 and 50 (inclusive) using a for loop.\n",
    "\n",
    "Hint\n",
    "\n",
    "- Initialize a variable to hold the sum (e.g., sum_of_evens).\n",
    "- Use a for loop to iterate through all numbers from 1 to 50.\n",
    "- Inside the loop, check if the number is even.\n",
    "- If the number is even, add it to sum_of_evens.\n",
    "- After the loop finishes, print the total sum of all even numbers between 1 and 50."
   ]
  },
  {
   "cell_type": "code",
   "execution_count": 19,
   "id": "12c66eab-db92-4984-ac6f-2858169fa43f",
   "metadata": {},
   "outputs": [
    {
     "name": "stdout",
     "output_type": "stream",
     "text": [
      "total sum of all even numbers between 1 and 50: 650\n"
     ]
    }
   ],
   "source": [
    "sum_of_evens = 0\n",
    "for number in range(1,51):\n",
    "    if number % 2 == 0:\n",
    "        sum_of_evens += number\n",
    "print(\"total sum of all even numbers between 1 and 50:\",sum_of_evens)"
   ]
  },
  {
   "cell_type": "code",
   "execution_count": 23,
   "id": "23ccef2c-f4f3-4139-8644-e8514e7da61f",
   "metadata": {},
   "outputs": [
    {
     "name": "stdin",
     "output_type": "stream",
     "text": [
      "Enter a number: 5\n"
     ]
    },
    {
     "name": "stdout",
     "output_type": "stream",
     "text": [
      "5^1=5\n",
      "5^2=25\n",
      "5^3=125\n",
      "5^4=625\n",
      "5^5=3125\n",
      "5^6=15625\n",
      "5^7=78125\n",
      "5^8=390625\n",
      "5^9=1953125\n",
      "5^10=9765625\n"
     ]
    }
   ],
   "source": [
    "number = int(input(\"Enter a number:\"))\n",
    "power = 1\n",
    "while power <= 10:\n",
    "    result = number ** power\n",
    "    print(f\"{number}^{power}={result}\")\n",
    "    power += 1"
   ]
  },
  {
   "cell_type": "markdown",
   "id": "a003e939-b762-44af-a0e3-a46531556f1f",
   "metadata": {},
   "source": [
    "Q6. \n",
    "\n",
    "Problem Statement: Write a Python program that takes an integer input from the user and counts down from that number to 0. The program should display the current number at each step until it reaches 0, at which point it should print a message indicating the countdown is finished\n",
    "\n",
    "Output Hint:\n",
    "\n",
    "Enter a number to start the countdown: 3\n",
    "\n",
    "3\n",
    "\n",
    "2\n",
    "\n",
    "1\n",
    "\n",
    "0\n",
    "\n",
    "Countdown finished!"
   ]
  },
  {
   "cell_type": "code",
   "execution_count": 28,
   "id": "bcc02353-ff20-4dc5-b354-e51b43929fb2",
   "metadata": {},
   "outputs": [
    {
     "name": "stdin",
     "output_type": "stream",
     "text": [
      "Enter a number to start count down: 7\n"
     ]
    },
    {
     "name": "stdout",
     "output_type": "stream",
     "text": [
      "7\n",
      "6\n",
      "5\n",
      "4\n",
      "3\n",
      "2\n",
      "1\n",
      "0\n",
      "Countdown finished!\n"
     ]
    }
   ],
   "source": [
    "num = int(input(\"Enter a number to start count down:\"))\n",
    "while num >= 0:\n",
    "    print(num)\n",
    "    num -= 1\n",
    "print(\"Countdown finished!\")"
   ]
  },
  {
   "cell_type": "markdown",
   "id": "36cfb7b1-58a0-4283-b987-6e8f66f326f1",
   "metadata": {},
   "source": [
    "Q5. Power of a Number Write a Python program that takes a number and prints the powers of the number (starting from 1 to 10) using a while loop. For example, if the user inputs 3, the output should be:\n",
    "\n",
    "3^1 = 3\n",
    "\n",
    "3^2 = 9\n",
    "\n",
    "3^3 = 27\n",
    "\n",
    "... up to 3^10."
   ]
  },
  {
   "cell_type": "code",
   "execution_count": 32,
   "id": "f58e7890-b585-4336-b1b8-85e1fdcac760",
   "metadata": {},
   "outputs": [
    {
     "name": "stdin",
     "output_type": "stream",
     "text": [
      "Enter a number:  3\n"
     ]
    },
    {
     "name": "stdout",
     "output_type": "stream",
     "text": [
      "3^1 = 3\n",
      "3^2 = 9\n",
      "3^3 = 27\n",
      "3^4 = 81\n",
      "3^5 = 243\n",
      "3^6 = 729\n",
      "3^7 = 2187\n",
      "3^8 = 6561\n",
      "3^9 = 19683\n",
      "3^10 = 59049\n"
     ]
    }
   ],
   "source": [
    "# Take input from the user\n",
    "num = int(input(\"Enter a number: \"))\n",
    "\n",
    "# Initialize the exponent\n",
    "power = 1\n",
    "\n",
    "# Use a while loop to print powers from 1 to 10\n",
    "while power <= 10:\n",
    "    result = num ** power\n",
    "    print(f\"{num}^{power} = {result}\")\n",
    "    power += 1"
   ]
  },
  {
   "cell_type": "markdown",
   "id": "ac3cadb4-ce36-4540-b6dd-25a9d09b7f0c",
   "metadata": {},
   "source": [
    "Q7.\n",
    "\n",
    "Write a Python program that takes a number as input from the user and calculates its factorial using a for loop. The program should display the result to the user.\n",
    "\n",
    "Example Input/Output:\n",
    "\n",
    "Input:\n",
    "5\n",
    "\n",
    "Output:\n",
    "The factorial of 5 is 120"
   ]
  },
  {
   "cell_type": "code",
   "execution_count": 35,
   "id": "bee6acd3-c338-439b-856a-db942d96825f",
   "metadata": {},
   "outputs": [
    {
     "name": "stdin",
     "output_type": "stream",
     "text": [
      "Enter a number: 6\n"
     ]
    },
    {
     "name": "stdout",
     "output_type": "stream",
     "text": [
      "The factorial of 6 is 720\n"
     ]
    }
   ],
   "source": [
    "num1 = int(input(\"Enter a number:\"))\n",
    "factorial = 1\n",
    "for x in range(1, num1 + 1):\n",
    "    factorial *= x\n",
    "print(f\"The factorial of {num1} is {factorial}\")"
   ]
  },
  {
   "cell_type": "markdown",
   "id": "98e8a7ff-674e-4e37-961c-ed00c367c911",
   "metadata": {},
   "source": [
    "Q8.\n",
    "\n",
    "Create an empty dictionary called person_info.\n",
    "\n",
    "Assign the following key-value pairs to the dictionary:\n",
    "\n",
    "\"name\": \"Alice\"\n",
    "\n",
    "\"age\": 25\n",
    "\n",
    "\"occupation\": \"Engineer\"\n",
    "\n",
    "After assigning the values, print the dictionary."
   ]
  },
  {
   "cell_type": "code",
   "execution_count": 38,
   "id": "7204d1c7-c9ab-41df-a392-0e9cd3927448",
   "metadata": {},
   "outputs": [
    {
     "name": "stdout",
     "output_type": "stream",
     "text": [
      "{'name': 'Alice', 'age': 25, 'occupation': 'Engineer'}\n"
     ]
    }
   ],
   "source": [
    "person_info = {}\n",
    "person_info[\"name\"] = \"Alice\"\n",
    "person_info[\"age\"] = 25\n",
    "person_info[\"occupation\"] = \"Engineer\"\n",
    "print(person_info)"
   ]
  },
  {
   "cell_type": "markdown",
   "id": "2cf551c3-9ea9-484a-94ed-a6ba47f8127f",
   "metadata": {},
   "source": [
    "Q9. Printing a right-angled triangle pattern (with NESTED while loop)"
   ]
  },
  {
   "cell_type": "code",
   "execution_count": 43,
   "id": "4cc4512f-9512-495b-847a-b73067a961d7",
   "metadata": {},
   "outputs": [
    {
     "name": "stdin",
     "output_type": "stream",
     "text": [
      "Enter the number of rows: 10\n"
     ]
    },
    {
     "name": "stdout",
     "output_type": "stream",
     "text": [
      "*\n",
      "**\n",
      "***\n",
      "****\n",
      "*****\n",
      "******\n",
      "*******\n",
      "********\n",
      "*********\n",
      "**********\n"
     ]
    }
   ],
   "source": [
    "rows = int(input(\"Enter the number of rows:\"))\n",
    "a = 1\n",
    "while a <= rows:\n",
    "    b = 1\n",
    "    while b <= a:\n",
    "        print(\"*\", end=\"\")\n",
    "        b += 1\n",
    "    print()\n",
    "    a += 1"
   ]
  },
  {
   "cell_type": "code",
   "execution_count": null,
   "id": "8c09a76f-d9d4-4b7b-92a6-49d48cc3832b",
   "metadata": {},
   "outputs": [],
   "source": []
  }
 ],
 "metadata": {
  "kernelspec": {
   "display_name": "Python [conda env:base] *",
   "language": "python",
   "name": "conda-base-py"
  },
  "language_info": {
   "codemirror_mode": {
    "name": "ipython",
    "version": 3
   },
   "file_extension": ".py",
   "mimetype": "text/x-python",
   "name": "python",
   "nbconvert_exporter": "python",
   "pygments_lexer": "ipython3",
   "version": "3.12.7"
  }
 },
 "nbformat": 4,
 "nbformat_minor": 5
}
