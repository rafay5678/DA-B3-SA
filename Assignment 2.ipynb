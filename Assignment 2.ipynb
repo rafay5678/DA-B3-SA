{
 "cells": [
  {
   "cell_type": "markdown",
   "id": "7d1d96af-33be-4b84-ab4f-804b17d8187c",
   "metadata": {},
   "source": [
    "1-\n",
    "\n",
    "text = 'hello python world'\n",
    "\n",
    "Replace spaces with underscores in the string (e.g., \"hello python world\" → \"hello_python_world\").\n",
    "\n",
    "Split the modified string (e.g., \"hello_python_world\" → ['hello', 'python', 'world']).\n",
    "\n",
    "Join the list elements with a hyphen (-) between them (e.g., ['hello', 'python', 'world'] → \"hello-python-world\").\n",
    "\n",
    "Print all three results\n",
    "\n",
    "Hint: Use string methods"
   ]
  },
  {
   "cell_type": "code",
   "execution_count": 2,
   "id": "816a5c89-bfc5-47c7-bb28-32a30789d705",
   "metadata": {},
   "outputs": [
    {
     "name": "stdout",
     "output_type": "stream",
     "text": [
      "hello_python_world\n"
     ]
    }
   ],
   "source": [
    "text = 'hello python world'\n",
    "replace_text = text.replace(\" \", \"_\")\n",
    "print(replace_text)"
   ]
  },
  {
   "cell_type": "code",
   "execution_count": 4,
   "id": "83297c00-23d2-4896-a7ba-e705a0d616d7",
   "metadata": {},
   "outputs": [
    {
     "name": "stdout",
     "output_type": "stream",
     "text": [
      "['hello', 'python', 'world']\n"
     ]
    }
   ],
   "source": [
    "split_text=replace_text.split(\"_\")\n",
    "print(split_text)"
   ]
  },
  {
   "cell_type": "code",
   "execution_count": 6,
   "id": "486a0e4f-66a3-4a9c-ac2f-49c479d9b321",
   "metadata": {},
   "outputs": [
    {
     "name": "stdout",
     "output_type": "stream",
     "text": [
      "hello-python-world\n"
     ]
    }
   ],
   "source": [
    "join_text=\"-\".join(split_text)\n",
    "print(join_text)"
   ]
  },
  {
   "cell_type": "markdown",
   "id": "8bf050ef-c652-4da9-a711-3b2e83e5f611",
   "metadata": {},
   "source": [
    "2- Check if a string has more than 5 characters. Return True/False\n",
    "\n",
    "word = \"Javascript\""
   ]
  },
  {
   "cell_type": "code",
   "execution_count": 9,
   "id": "a1a09bdc-ea8f-44fc-b21b-4d09c0636834",
   "metadata": {},
   "outputs": [
    {
     "name": "stdout",
     "output_type": "stream",
     "text": [
      "True\n"
     ]
    }
   ],
   "source": [
    "word = \"Javascript\"\n",
    "print(len(word)>5)"
   ]
  },
  {
   "cell_type": "markdown",
   "id": "35a711ee-14da-40dd-9f23-80756a2991c5",
   "metadata": {},
   "source": [
    "3- Check if a number is even and greater than 10. Return True/False\n",
    "\n",
    "num2 = 12"
   ]
  },
  {
   "cell_type": "code",
   "execution_count": 12,
   "id": "236dedb3-b4c5-4a6f-950e-e8381ae95568",
   "metadata": {},
   "outputs": [
    {
     "name": "stdout",
     "output_type": "stream",
     "text": [
      "True\n"
     ]
    }
   ],
   "source": [
    "num2 = 12\n",
    "print(num2%2==0 and num2>10 )"
   ]
  },
  {
   "cell_type": "markdown",
   "id": "e052b483-ffaf-4feb-a5ed-6b98b9958efe",
   "metadata": {},
   "source": [
    "4- Check if a number is less than 5 or greater than 20. Return True/False\n",
    "\n",
    "num3 = 3"
   ]
  },
  {
   "cell_type": "code",
   "execution_count": 15,
   "id": "79a0a422-1260-4791-a795-d984c8897fa0",
   "metadata": {},
   "outputs": [
    {
     "name": "stdout",
     "output_type": "stream",
     "text": [
      "True\n"
     ]
    }
   ],
   "source": [
    "num3=3\n",
    "print(num3<5 or num3>20)\n"
   ]
  },
  {
   "cell_type": "markdown",
   "id": "f5be6801-fdbf-403f-8b0c-a0277c232849",
   "metadata": {},
   "source": [
    "5- Check if a person’s age is between 18 and 65 and if they have a valid ID\n",
    "\n",
    "age = 25\n",
    "\n",
    "has_id = True"
   ]
  },
  {
   "cell_type": "code",
   "execution_count": 18,
   "id": "2452ecc5-443f-440a-958f-88c5afb541aa",
   "metadata": {},
   "outputs": [
    {
     "name": "stdout",
     "output_type": "stream",
     "text": [
      "True\n"
     ]
    }
   ],
   "source": [
    "age = 25\n",
    "has_id= (age >= 18 or age <=65)\n",
    "print(has_id)"
   ]
  },
  {
   "cell_type": "markdown",
   "id": "2bc1cad0-1c35-40dc-9993-cf6f5054308f",
   "metadata": {},
   "source": [
    "6-Write a script to check if a string starts with (http://) or (https://)\n",
    "\n",
    "url = \"https://www.example.com\""
   ]
  },
  {
   "cell_type": "code",
   "execution_count": 21,
   "id": "1af82578-d988-4b2c-9678-04c15f5f9e9d",
   "metadata": {},
   "outputs": [
    {
     "name": "stdout",
     "output_type": "stream",
     "text": [
      "True\n"
     ]
    }
   ],
   "source": [
    "url = \"https://www.example.com\"\n",
    "print((\"http://\" in url) or (\"https://\" in url))"
   ]
  },
  {
   "cell_type": "markdown",
   "id": "b561f351-90c5-4761-918e-c8388c771384",
   "metadata": {},
   "source": [
    "7- Write a script that applies a 10% discount to an item's price. (Using Assignment Operator)\n",
    "\n",
    "price = 100"
   ]
  },
  {
   "cell_type": "code",
   "execution_count": 24,
   "id": "a672bd8e-6df4-4c4d-9812-2c8ce5218b39",
   "metadata": {},
   "outputs": [
    {
     "name": "stdout",
     "output_type": "stream",
     "text": [
      "90.0\n"
     ]
    }
   ],
   "source": [
    "price=100\n",
    "discount = price * 0.10\n",
    "price -= discount \n",
    "print(price)"
   ]
  },
  {
   "cell_type": "code",
   "execution_count": null,
   "id": "4a600c4b-b5ae-4f19-83be-12ff58aed2f6",
   "metadata": {},
   "outputs": [],
   "source": [
    "8- You are managing different customer lists for a subscription service, check if alice@example.com is our both premium and basic customer\n",
    "\n",
    "premium_customers = [\"alice@example.com\", \"charlie@example.com\", \"bob@example.com\"]\n",
    "\n",
    "basic_customers = [\"alex@example.com\", \"david@example.com\", \"chloe@example.com\"]"
   ]
  },
  {
   "cell_type": "code",
   "execution_count": 27,
   "id": "08cffb6d-949c-4bce-8402-20126c75bd5d",
   "metadata": {},
   "outputs": [
    {
     "name": "stdout",
     "output_type": "stream",
     "text": [
      "False\n"
     ]
    }
   ],
   "source": [
    "premium_customers = [\"alice@example.com\", \"charlie@example.com\", \"bob@example.com\"]\n",
    "basic_customers = [\"alex@example.com\", \"david@example.com\", \"chloe@example.com\"]\n",
    "\n",
    "print((\"alice@example.com\" in premium_customers) and (\"alice@example.com\" in basic_customers))"
   ]
  },
  {
   "cell_type": "markdown",
   "id": "7fae11d6-3afd-4346-8e5d-ce8659d5a0fb",
   "metadata": {},
   "source": [
    "9. Write a Python program that prompts the user to enter a password and returns True or False based on the following checks:\n",
    "Whether the string contains any uppercase characters.\n",
    "\n",
    "Whether the string contains any lowercase characters.\n",
    "\n",
    "Whether the string contains any spaces.\n",
    "\n",
    "Whether the string contains any special characters (anything other than letters, digits, and spaces).\n",
    "\n",
    "Hint: Use Input function and string methods"
   ]
  },
  {
   "cell_type": "code",
   "execution_count": 31,
   "id": "58c000d8-d38c-4953-a6e0-d800c15ff8a0",
   "metadata": {},
   "outputs": [
    {
     "name": "stdin",
     "output_type": "stream",
     "text": [
      " abcd\n"
     ]
    }
   ],
   "source": [
    "Password=str(input())"
   ]
  },
  {
   "cell_type": "code",
   "execution_count": 34,
   "id": "637e2155-046e-41ad-ba9e-1271b0bcb327",
   "metadata": {},
   "outputs": [
    {
     "name": "stdout",
     "output_type": "stream",
     "text": [
      "User Password has uppercase Charachter: False\n"
     ]
    }
   ],
   "source": [
    "#Whether the string contains any uppercase characters.\n",
    "\n",
    "print(\"User Password has uppercase Charachter:\",Password != Password.lower())"
   ]
  },
  {
   "cell_type": "code",
   "execution_count": 36,
   "id": "62552adf-fae5-4058-86ac-22ba5a568b71",
   "metadata": {},
   "outputs": [
    {
     "name": "stdout",
     "output_type": "stream",
     "text": [
      "User Password has lowercase Charachter: True\n"
     ]
    }
   ],
   "source": [
    "#Whether the string contains any lowercase characters.\n",
    "\n",
    "print(\"User Password has lowercase Charachter:\",Password != Password.upper())"
   ]
  },
  {
   "cell_type": "code",
   "execution_count": 38,
   "id": "5beedf9e-5e53-4b2a-afe9-030a7365eb03",
   "metadata": {},
   "outputs": [
    {
     "name": "stdout",
     "output_type": "stream",
     "text": [
      "User Password has any space: False\n"
     ]
    }
   ],
   "source": [
    "#Whether the string contains any spaces.\n",
    "\n",
    "print(\"User Password has any space:\",Password.isspace())"
   ]
  },
  {
   "cell_type": "code",
   "execution_count": 40,
   "id": "245eaf08-31e4-43b1-bc2f-ebaddbd51acf",
   "metadata": {},
   "outputs": [
    {
     "name": "stdout",
     "output_type": "stream",
     "text": [
      "User Password has any special character:  False\n"
     ]
    }
   ],
   "source": [
    "#Whether the string contains any special characters (anything other than letters, digits, and spaces)\n",
    "\n",
    "print(\"User Password has any special character: \" , not Password.isalnum())"
   ]
  },
  {
   "cell_type": "markdown",
   "id": "ef3f2f27-c1ac-4e49-a5aa-0e48c51f9994",
   "metadata": {},
   "source": [
    "10- You have a product code that follows the format \"SKU-12345-XYZ\".\n",
    "\n",
    "Find the first position of the dash (-).\n",
    "\n",
    "Count the number of dashes (-) in the product code.\n",
    "\n",
    "Remove the \"SKU-\" prefix and \"-XYZ\" suffix from the product code, Extract the numeric part 12345\n",
    "\n",
    "Hint: Use String Methods"
   ]
  },
  {
   "cell_type": "code",
   "execution_count": 43,
   "id": "a2a7962b-cb92-41fd-86a2-491cb1b08136",
   "metadata": {},
   "outputs": [],
   "source": [
    "code=\"SKU-12345-XYZ\""
   ]
  },
  {
   "cell_type": "code",
   "execution_count": 45,
   "id": "10603acb-b21b-4565-be2c-cca8bc992835",
   "metadata": {},
   "outputs": [
    {
     "name": "stdout",
     "output_type": "stream",
     "text": [
      "code:  SKU-12345-XYZ\n"
     ]
    }
   ],
   "source": [
    "print(\"code: \", code)"
   ]
  },
  {
   "cell_type": "code",
   "execution_count": 47,
   "id": "323092c2-4c9e-41f1-83e6-2291d95e0b00",
   "metadata": {},
   "outputs": [
    {
     "name": "stdout",
     "output_type": "stream",
     "text": [
      "first position of dash:  3\n"
     ]
    }
   ],
   "source": [
    "print(\"first position of dash: \", code.find(\"-\"))"
   ]
  },
  {
   "cell_type": "code",
   "execution_count": 49,
   "id": "5fcaded9-62b8-4e5f-987c-14eae4e3b374",
   "metadata": {},
   "outputs": [
    {
     "name": "stdout",
     "output_type": "stream",
     "text": [
      "Number of dashes :  2\n"
     ]
    }
   ],
   "source": [
    "print(\"Number of dashes : \", code.count(\"-\"))"
   ]
  },
  {
   "cell_type": "code",
   "execution_count": 51,
   "id": "97a1eb72-87d8-4967-b83b-fe8ffb17fa5d",
   "metadata": {},
   "outputs": [],
   "source": [
    "remove_prefix_code=code.removeprefix(\"SKU-\")"
   ]
  },
  {
   "cell_type": "code",
   "execution_count": 53,
   "id": "ea274b91-2283-4da5-acb1-5df93ccc598d",
   "metadata": {},
   "outputs": [],
   "source": [
    "remove_suffix_code=remove_prefix_code.removesuffix(\"-XYZ\")"
   ]
  },
  {
   "cell_type": "code",
   "execution_count": 55,
   "id": "dcc03083-2200-4727-9aef-57bd32cf9635",
   "metadata": {},
   "outputs": [
    {
     "name": "stdout",
     "output_type": "stream",
     "text": [
      "Numeric Part:  12345\n"
     ]
    }
   ],
   "source": [
    "print(\"Numeric Part: \", remove_suffix_code)"
   ]
  },
  {
   "cell_type": "code",
   "execution_count": null,
   "id": "3ab1286f-5dbe-47cb-8b87-c43e8e1b645d",
   "metadata": {},
   "outputs": [],
   "source": []
  }
 ],
 "metadata": {
  "kernelspec": {
   "display_name": "Python [conda env:base] *",
   "language": "python",
   "name": "conda-base-py"
  },
  "language_info": {
   "codemirror_mode": {
    "name": "ipython",
    "version": 3
   },
   "file_extension": ".py",
   "mimetype": "text/x-python",
   "name": "python",
   "nbconvert_exporter": "python",
   "pygments_lexer": "ipython3",
   "version": "3.12.7"
  }
 },
 "nbformat": 4,
 "nbformat_minor": 5
}
