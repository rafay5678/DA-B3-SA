{
 "cells": [
  {
   "cell_type": "markdown",
   "id": "de551e25-5a89-40dc-a6f7-ba6fb1cbf819",
   "metadata": {},
   "source": [
    "#Write a program that takes two numbers (a = 15 , b = 4) and prints their:\n",
    "Sum\n",
    "\n",
    "Difference\n",
    "\n",
    "Product\n",
    "\n",
    "Division\n",
    "\n",
    "Floor Division\n",
    "\n",
    "Modulus"
   ]
  },
  {
   "cell_type": "code",
   "execution_count": 2,
   "id": "1293c0f7-c99c-4bf5-8af7-f3cf2bd50f34",
   "metadata": {},
   "outputs": [
    {
     "data": {
      "text/plain": [
       "15"
      ]
     },
     "execution_count": 2,
     "metadata": {},
     "output_type": "execute_result"
    }
   ],
   "source": [
    "a=15\n",
    "b=4\n",
    "a"
   ]
  },
  {
   "cell_type": "code",
   "execution_count": 3,
   "id": "c0b26fbf-7f7c-4deb-bbd1-83e081389938",
   "metadata": {},
   "outputs": [
    {
     "data": {
      "text/plain": [
       "4"
      ]
     },
     "execution_count": 3,
     "metadata": {},
     "output_type": "execute_result"
    }
   ],
   "source": [
    "b"
   ]
  },
  {
   "cell_type": "code",
   "execution_count": 4,
   "id": "3218f003-07a2-4c31-8f9e-e6c2a77b8555",
   "metadata": {},
   "outputs": [
    {
     "data": {
      "text/plain": [
       "19"
      ]
     },
     "execution_count": 4,
     "metadata": {},
     "output_type": "execute_result"
    }
   ],
   "source": [
    "#sum\n",
    "a+b"
   ]
  },
  {
   "cell_type": "code",
   "execution_count": 5,
   "id": "77d17eef-8000-41a1-a111-aacc9ce24ba0",
   "metadata": {},
   "outputs": [
    {
     "data": {
      "text/plain": [
       "11"
      ]
     },
     "execution_count": 5,
     "metadata": {},
     "output_type": "execute_result"
    }
   ],
   "source": [
    "#Difference\n",
    "a-b"
   ]
  },
  {
   "cell_type": "code",
   "execution_count": 6,
   "id": "999fc4d4-3061-4ad0-80ea-69901e4e438c",
   "metadata": {},
   "outputs": [
    {
     "data": {
      "text/plain": [
       "60"
      ]
     },
     "execution_count": 6,
     "metadata": {},
     "output_type": "execute_result"
    }
   ],
   "source": [
    "#product\n",
    "a*b"
   ]
  },
  {
   "cell_type": "code",
   "execution_count": 7,
   "id": "935e0e0a-1f21-40a7-b601-89215585c57c",
   "metadata": {},
   "outputs": [
    {
     "data": {
      "text/plain": [
       "3.75"
      ]
     },
     "execution_count": 7,
     "metadata": {},
     "output_type": "execute_result"
    }
   ],
   "source": [
    "#Division\n",
    "a/b"
   ]
  },
  {
   "cell_type": "code",
   "execution_count": 8,
   "id": "f8a9f39f-492f-44db-96bc-b45f3e51ceb2",
   "metadata": {},
   "outputs": [
    {
     "data": {
      "text/plain": [
       "3"
      ]
     },
     "execution_count": 8,
     "metadata": {},
     "output_type": "execute_result"
    }
   ],
   "source": [
    "#floor Division\n",
    "\n",
    "a//b"
   ]
  },
  {
   "cell_type": "code",
   "execution_count": 9,
   "id": "7eef61fa-5b9f-487a-bbb9-75953a8becb4",
   "metadata": {},
   "outputs": [
    {
     "data": {
      "text/plain": [
       "3"
      ]
     },
     "execution_count": 9,
     "metadata": {},
     "output_type": "execute_result"
    }
   ],
   "source": [
    "#modulus\n",
    "\n",
    "a%b"
   ]
  },
  {
   "cell_type": "markdown",
   "id": "0862ba9c-6438-433e-9290-24d9c5b01b93",
   "metadata": {},
   "source": [
    "#2 Convert the following: (num1 = 10, num2 = 5.6, num3 = 4.43)\n",
    "\n",
    "Integer to float\n",
    "\n",
    "Float to integer\n",
    "\n",
    "Float to String\n",
    "\n"
   ]
  },
  {
   "cell_type": "code",
   "execution_count": 11,
   "id": "3f258510-9989-43c1-9b94-bc8943b067d8",
   "metadata": {},
   "outputs": [
    {
     "name": "stdout",
     "output_type": "stream",
     "text": [
      "10\n"
     ]
    }
   ],
   "source": [
    "num1 = 10\n",
    "num2 = 5.6\n",
    "num3 = 4.43\n",
    "print(num1)\n"
   ]
  },
  {
   "cell_type": "code",
   "execution_count": 12,
   "id": "70874f82-eee3-44e2-9c37-153e6d152db3",
   "metadata": {},
   "outputs": [
    {
     "name": "stdout",
     "output_type": "stream",
     "text": [
      "5.6\n"
     ]
    }
   ],
   "source": [
    "print(num2)"
   ]
  },
  {
   "cell_type": "code",
   "execution_count": 13,
   "id": "6fd08b0f-41fc-4530-952a-5c2dd8ed4aa4",
   "metadata": {},
   "outputs": [
    {
     "name": "stdout",
     "output_type": "stream",
     "text": [
      "4.43\n"
     ]
    }
   ],
   "source": [
    "print(num3)"
   ]
  },
  {
   "cell_type": "code",
   "execution_count": 14,
   "id": "50635412-9ac3-4cb9-9075-9f20ee7df020",
   "metadata": {},
   "outputs": [
    {
     "data": {
      "text/plain": [
       "10.0"
      ]
     },
     "execution_count": 14,
     "metadata": {},
     "output_type": "execute_result"
    }
   ],
   "source": [
    "#Integer to Float\n",
    "\n",
    "flt=float(num1)\n",
    "flt"
   ]
  },
  {
   "cell_type": "code",
   "execution_count": 15,
   "id": "a0f5d9fc-c4ba-49e2-a082-d4327a554126",
   "metadata": {},
   "outputs": [
    {
     "data": {
      "text/plain": [
       "5"
      ]
     },
     "execution_count": 15,
     "metadata": {},
     "output_type": "execute_result"
    }
   ],
   "source": [
    "#Float to Integer\n",
    "\n",
    "int=int(num2)\n",
    "int"
   ]
  },
  {
   "cell_type": "code",
   "execution_count": 16,
   "id": "ab2d1e42-53a1-4eee-bd07-1f3d318d23cb",
   "metadata": {},
   "outputs": [
    {
     "data": {
      "text/plain": [
       "'4.43'"
      ]
     },
     "execution_count": 16,
     "metadata": {},
     "output_type": "execute_result"
    }
   ],
   "source": [
    "#Float to String\n",
    "strng=str(num3)\n",
    "strng"
   ]
  },
  {
   "cell_type": "markdown",
   "id": "9d4edde6-13a2-44d0-8d79-694fbe85f25e",
   "metadata": {},
   "source": [
    "#3 fruits = [\"apple\", \"banana\", \"cherry\", \"coconut\", \"pineapple\", \"mango\", \"orange\"]\n",
    "\n",
    "Print below using indexing:\n",
    "\n",
    "The first fruit\n",
    "\n",
    "The last fruit (negative indexing)\n",
    "\n",
    "The fourth fruit\n"
   ]
  },
  {
   "cell_type": "code",
   "execution_count": 18,
   "id": "d277767d-1b83-451d-bec0-4be9cfbc14f0",
   "metadata": {},
   "outputs": [
    {
     "data": {
      "text/plain": [
       "['apple', 'banana', 'cherry', 'coconut', 'pineapple', 'mango', 'orange']"
      ]
     },
     "execution_count": 18,
     "metadata": {},
     "output_type": "execute_result"
    }
   ],
   "source": [
    "fruits = [\"apple\", \"banana\", \"cherry\", \"coconut\", \"pineapple\", \"mango\", \"orange\"]\n",
    "fruits"
   ]
  },
  {
   "cell_type": "code",
   "execution_count": 19,
   "id": "937c2cdf-a96d-4bcb-8850-55751fbcf529",
   "metadata": {},
   "outputs": [
    {
     "data": {
      "text/plain": [
       "'apple'"
      ]
     },
     "execution_count": 19,
     "metadata": {},
     "output_type": "execute_result"
    }
   ],
   "source": [
    "#The first fruit\n",
    "\n",
    "first_fruit = fruits[0]\n",
    "first_fruit"
   ]
  },
  {
   "cell_type": "code",
   "execution_count": 20,
   "id": "ab3a5cdd-499e-488c-9b1e-2d0f076c9649",
   "metadata": {},
   "outputs": [
    {
     "data": {
      "text/plain": [
       "'orange'"
      ]
     },
     "execution_count": 20,
     "metadata": {},
     "output_type": "execute_result"
    }
   ],
   "source": [
    "#The last fruit(negative indexing)\n",
    "last_fruit=fruits[-1]\n",
    "last_fruit"
   ]
  },
  {
   "cell_type": "code",
   "execution_count": 21,
   "id": "91d0ead2-5348-41d9-bf9f-70e8c123ca57",
   "metadata": {},
   "outputs": [
    {
     "data": {
      "text/plain": [
       "'coconut'"
      ]
     },
     "execution_count": 21,
     "metadata": {},
     "output_type": "execute_result"
    }
   ],
   "source": [
    "#the fourth fruit\n",
    "\n",
    "fourth_fruit=fruits[3]\n",
    "fourth_fruit"
   ]
  },
  {
   "cell_type": "markdown",
   "id": "6128b4aa-cfb9-4a38-9a47-56a64e7176d7",
   "metadata": {},
   "source": [
    "#List Slicing\n",
    "\n",
    "numbers = [10, 20, 30, 40, 50]\n",
    "\n",
    "Print:\n",
    "\n",
    "First three elements\n",
    "\n",
    "Last two elements\n",
    "\n",
    "Print all elements except the first one\n",
    "\n",
    "Print all elements except the last one\n",
    "\n",
    "Print the list in reverse using slicing\n",
    "\n",
    "Print every second element\n"
   ]
  },
  {
   "cell_type": "code",
   "execution_count": 23,
   "id": "3e4db9aa-4143-4944-9d2e-48f24d53e654",
   "metadata": {},
   "outputs": [
    {
     "data": {
      "text/plain": [
       "[10, 20, 30, 40, 50]"
      ]
     },
     "execution_count": 23,
     "metadata": {},
     "output_type": "execute_result"
    }
   ],
   "source": [
    "numbers = [10, 20, 30, 40, 50]\n",
    "numbers"
   ]
  },
  {
   "cell_type": "code",
   "execution_count": 24,
   "id": "00141c93-c95d-46a5-9ee0-43b6e03f1143",
   "metadata": {},
   "outputs": [
    {
     "data": {
      "text/plain": [
       "[10, 20, 30]"
      ]
     },
     "execution_count": 24,
     "metadata": {},
     "output_type": "execute_result"
    }
   ],
   "source": [
    "#first three elements\n",
    "\n",
    "first_three_elements=numbers[:3]\n",
    "first_three_elements"
   ]
  },
  {
   "cell_type": "code",
   "execution_count": 25,
   "id": "831fc9e6-91a4-4351-a6b0-74d42196e953",
   "metadata": {},
   "outputs": [
    {
     "data": {
      "text/plain": [
       "[40, 50]"
      ]
     },
     "execution_count": 25,
     "metadata": {},
     "output_type": "execute_result"
    }
   ],
   "source": [
    "#last two elements\n",
    "\n",
    "last_two_elements=numbers[3:]\n",
    "last_two_elements"
   ]
  },
  {
   "cell_type": "code",
   "execution_count": 26,
   "id": "42c8a919-8a84-463d-90a1-a242b7697d3a",
   "metadata": {},
   "outputs": [
    {
     "data": {
      "text/plain": [
       "[20, 30, 40, 50]"
      ]
     },
     "execution_count": 26,
     "metadata": {},
     "output_type": "execute_result"
    }
   ],
   "source": [
    "#Print all elements except the first one\n",
    "\n",
    "all_elements_except_the_first_one=numbers[1:]\n",
    "all_elements_except_the_first_one"
   ]
  },
  {
   "cell_type": "code",
   "execution_count": 27,
   "id": "306a0ce5-b5a6-4002-a7e4-8e5cd6901327",
   "metadata": {},
   "outputs": [
    {
     "data": {
      "text/plain": [
       "[10, 20, 30, 40]"
      ]
     },
     "execution_count": 27,
     "metadata": {},
     "output_type": "execute_result"
    }
   ],
   "source": [
    "#Print all elements except the last one\n",
    "\n",
    "all_elements_except_the_last_one=numbers[:4]\n",
    "all_elements_except_the_last_one"
   ]
  },
  {
   "cell_type": "code",
   "execution_count": 28,
   "id": "4e24c36d-c901-4ecc-b4ce-120b331a356a",
   "metadata": {},
   "outputs": [
    {
     "data": {
      "text/plain": [
       "[50, 40, 30, 20, 10]"
      ]
     },
     "execution_count": 28,
     "metadata": {},
     "output_type": "execute_result"
    }
   ],
   "source": [
    "#Print the list in reverse using slicing\n",
    "\n",
    "list_in_reverse_using_slicing=numbers[::-1]\n",
    "list_in_reverse_using_slicing"
   ]
  },
  {
   "cell_type": "code",
   "execution_count": 29,
   "id": "45e21a97-8dc9-46b2-9710-2495691290ab",
   "metadata": {},
   "outputs": [
    {
     "data": {
      "text/plain": [
       "[20, 40]"
      ]
     },
     "execution_count": 29,
     "metadata": {},
     "output_type": "execute_result"
    }
   ],
   "source": [
    "#Print every second element\n",
    "\n",
    "every_second_element=numbers[1:5:2]\n",
    "every_second_element"
   ]
  },
  {
   "cell_type": "markdown",
   "id": "7df8ec9f-44e4-4e77-a610-2a766e1d161f",
   "metadata": {},
   "source": [
    "Add the number 10 to the end of the list using method.\n",
    "nums = [1, 2, 3]"
   ]
  },
  {
   "cell_type": "code",
   "execution_count": 31,
   "id": "e35e87f2-854a-42dd-bdd1-96b428292b79",
   "metadata": {},
   "outputs": [
    {
     "data": {
      "text/plain": [
       "[1, 2, 3]"
      ]
     },
     "execution_count": 31,
     "metadata": {},
     "output_type": "execute_result"
    }
   ],
   "source": [
    "#append method\n",
    "\n",
    "nums = [1, 2, 3]\n",
    "nums"
   ]
  },
  {
   "cell_type": "code",
   "execution_count": 32,
   "id": "f72c73a7-9048-4003-9e30-cafac10177ff",
   "metadata": {},
   "outputs": [
    {
     "data": {
      "text/plain": [
       "[1, 2, 3, 10]"
      ]
     },
     "execution_count": 32,
     "metadata": {},
     "output_type": "execute_result"
    }
   ],
   "source": [
    "nums.append(10)\n",
    "nums"
   ]
  },
  {
   "cell_type": "markdown",
   "id": "3124bd86-ee06-4485-b172-1cdc2a1dc5cb",
   "metadata": {},
   "source": [
    "Insert the number 99 at index 1 using method.\n",
    "nums = [1, 2, 3]"
   ]
  },
  {
   "cell_type": "code",
   "execution_count": 34,
   "id": "a2149ead-9b95-4f8f-b1f6-dcc6809f4c32",
   "metadata": {},
   "outputs": [
    {
     "data": {
      "text/plain": [
       "[1, 99, 2, 3]"
      ]
     },
     "execution_count": 34,
     "metadata": {},
     "output_type": "execute_result"
    }
   ],
   "source": [
    "#insert method\n",
    "\n",
    "nums=[1,2,3]\n",
    "nums.insert(1,99)\n",
    "nums"
   ]
  },
  {
   "cell_type": "markdown",
   "id": "18a9890a-21b8-4e40-b0a5-482af8e6385d",
   "metadata": {},
   "source": [
    "#Add the elements of another list [4, 5] to the original list using method\n",
    "nums = [1, 2, 3]"
   ]
  },
  {
   "cell_type": "code",
   "execution_count": 36,
   "id": "4e7e4531-cccd-47de-a675-5ee1493d82a4",
   "metadata": {},
   "outputs": [
    {
     "data": {
      "text/plain": [
       "[1, 2, 3, 4, 5]"
      ]
     },
     "execution_count": 36,
     "metadata": {},
     "output_type": "execute_result"
    }
   ],
   "source": [
    "nums=[1,2,3]\n",
    "nums2=[4,5]\n",
    "nums.extend(nums2)\n",
    "nums"
   ]
  },
  {
   "cell_type": "markdown",
   "id": "e96a5181-86d3-4a7c-add8-ed43a10dd559",
   "metadata": {},
   "source": [
    "#Sort the list in ascending order using method\n",
    "\n",
    "nums = [4, 1, 3, 2]"
   ]
  },
  {
   "cell_type": "code",
   "execution_count": 38,
   "id": "7df5bea7-5b3d-4b8a-b2ba-59ed906ecca1",
   "metadata": {},
   "outputs": [
    {
     "data": {
      "text/plain": [
       "[1, 2, 3, 4]"
      ]
     },
     "execution_count": 38,
     "metadata": {},
     "output_type": "execute_result"
    }
   ],
   "source": [
    "nums = [4, 1, 3, 2]\n",
    "nums.sort()\n",
    "nums"
   ]
  },
  {
   "cell_type": "markdown",
   "id": "434310a5-47d7-4469-8bbe-9d744ac41663",
   "metadata": {},
   "source": [
    "#A customer orders several food items. Add the items to a list and then:\n",
    "order = [\"burger\", \"fries\", \"coke\"]\n",
    "\n",
    "Add a new item \"ice cream\" using append()\n",
    "\n",
    "Remove an item \"biryani\" using remove()\n",
    "\n",
    "Show the final order"
   ]
  },
  {
   "cell_type": "code",
   "execution_count": 40,
   "id": "22f4c06a-d552-41cb-a16e-cbdecb6aef69",
   "metadata": {},
   "outputs": [
    {
     "data": {
      "text/plain": [
       "['burger', 'fries', 'coke']"
      ]
     },
     "execution_count": 40,
     "metadata": {},
     "output_type": "execute_result"
    }
   ],
   "source": [
    "order = [\"burger\", \"fries\", \"coke\"]\n",
    "order"
   ]
  },
  {
   "cell_type": "code",
   "execution_count": 41,
   "id": "432a669b-0b43-4f31-ba82-535cdbb99068",
   "metadata": {},
   "outputs": [
    {
     "data": {
      "text/plain": [
       "['burger', 'fries', 'coke', 'ice cream']"
      ]
     },
     "execution_count": 41,
     "metadata": {},
     "output_type": "execute_result"
    }
   ],
   "source": [
    "#Add a new item \"ice cream\" using append()\n",
    "\n",
    "order.append(\"ice cream\")\n",
    "order"
   ]
  },
  {
   "cell_type": "code",
   "execution_count": 42,
   "id": "188b86a8-1d82-4559-aa36-923356364f2a",
   "metadata": {},
   "outputs": [
    {
     "data": {
      "text/plain": [
       "['burger', 'fries', 'coke', 'ice cream', 'biryani']"
      ]
     },
     "execution_count": 42,
     "metadata": {},
     "output_type": "execute_result"
    }
   ],
   "source": [
    "#Remove an item \"biryani\" using remove()\n",
    "\n",
    "order.append(\"biryani\")\n",
    "order"
   ]
  },
  {
   "cell_type": "code",
   "execution_count": 43,
   "id": "538e8648-d98c-4f72-b14c-b6a563ef2911",
   "metadata": {},
   "outputs": [
    {
     "data": {
      "text/plain": [
       "['burger', 'fries', 'coke', 'ice cream']"
      ]
     },
     "execution_count": 43,
     "metadata": {},
     "output_type": "execute_result"
    }
   ],
   "source": [
    "order.remove(\"biryani\")\n",
    "\n",
    "order"
   ]
  },
  {
   "cell_type": "code",
   "execution_count": 44,
   "id": "857afdea-377f-43b7-9bc8-631c0c307d1c",
   "metadata": {},
   "outputs": [
    {
     "data": {
      "text/plain": [
       "['burger', 'fries', 'coke', 'ice cream']"
      ]
     },
     "execution_count": 44,
     "metadata": {},
     "output_type": "execute_result"
    }
   ],
   "source": [
    "#Show the final order\n",
    "\n",
    "order"
   ]
  },
  {
   "cell_type": "markdown",
   "id": "ab27d29d-aa8a-4a06-9324-8b9519436538",
   "metadata": {},
   "source": [
    "#Track passengers on a bus:\n",
    "passengers = [\"Ali\", \"Zara\", \"Ahmed\"]\n",
    "\n",
    "Insert a new passenger \"Sara\" at position 2\n",
    "\n",
    "Remove passesnger who got off \"Zara\"\n",
    "\n",
    "Reverse the order to show who entered first"
   ]
  },
  {
   "cell_type": "code",
   "execution_count": 46,
   "id": "8760cfc7-8502-4f97-9225-8d533d5d7322",
   "metadata": {},
   "outputs": [
    {
     "data": {
      "text/plain": [
       "['Ali', 'Zara', 'Ahmed']"
      ]
     },
     "execution_count": 46,
     "metadata": {},
     "output_type": "execute_result"
    }
   ],
   "source": [
    "passengers = [\"Ali\", \"Zara\", \"Ahmed\"]\n",
    "\n",
    "passengers"
   ]
  },
  {
   "cell_type": "code",
   "execution_count": 47,
   "id": "0c62a4d3-de10-4b69-9906-43c757a3817c",
   "metadata": {},
   "outputs": [
    {
     "data": {
      "text/plain": [
       "['Ali', 'Sara', 'Zara', 'Ahmed']"
      ]
     },
     "execution_count": 47,
     "metadata": {},
     "output_type": "execute_result"
    }
   ],
   "source": [
    "#Insert a new passenger \"Sara\" at position 2\n",
    "\n",
    "passengers.insert(1,'Sara')\n",
    "passengers"
   ]
  },
  {
   "cell_type": "code",
   "execution_count": 48,
   "id": "39b328c3-f677-4a3c-9eca-e9dd426f9ed5",
   "metadata": {},
   "outputs": [
    {
     "data": {
      "text/plain": [
       "['Ali', 'Sara', 'Zara', 'Ahmed']"
      ]
     },
     "execution_count": 48,
     "metadata": {},
     "output_type": "execute_result"
    }
   ],
   "source": [
    "passengers"
   ]
  },
  {
   "cell_type": "code",
   "execution_count": 87,
   "id": "05044ffc-0a0b-4258-867a-e04e0657dd1e",
   "metadata": {},
   "outputs": [
    {
     "name": "stdout",
     "output_type": "stream",
     "text": [
      "['Ali', 'Sara', 'Ahmed']\n"
     ]
    }
   ],
   "source": [
    "#Remove passesnger who got off \"Zara\"\n",
    "passengers.remove(\"Zara\")\n",
    "print(passengers)"
   ]
  },
  {
   "cell_type": "code",
   "execution_count": 89,
   "id": "1d56cb33-0954-4b97-9f4a-151df48e3bac",
   "metadata": {},
   "outputs": [
    {
     "data": {
      "text/plain": [
       "['Ahmed', 'Sara', 'Ali']"
      ]
     },
     "execution_count": 89,
     "metadata": {},
     "output_type": "execute_result"
    }
   ],
   "source": [
    "passengers.reverse()\n",
    "passengers"
   ]
  },
  {
   "cell_type": "code",
   "execution_count": null,
   "id": "ddf7d904-5967-4b00-9efb-6c9049b65f9c",
   "metadata": {},
   "outputs": [],
   "source": []
  },
  {
   "cell_type": "code",
   "execution_count": null,
   "id": "c0cef8fa-775b-4e0d-bcf1-61bd6c22c9dc",
   "metadata": {},
   "outputs": [],
   "source": []
  }
 ],
 "metadata": {
  "kernelspec": {
   "display_name": "Python [conda env:base] *",
   "language": "python",
   "name": "conda-base-py"
  },
  "language_info": {
   "codemirror_mode": {
    "name": "ipython",
    "version": 3
   },
   "file_extension": ".py",
   "mimetype": "text/x-python",
   "name": "python",
   "nbconvert_exporter": "python",
   "pygments_lexer": "ipython3",
   "version": "3.12.7"
  }
 },
 "nbformat": 4,
 "nbformat_minor": 5
}
