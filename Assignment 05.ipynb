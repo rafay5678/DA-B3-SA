{
 "cells": [
  {
   "cell_type": "code",
   "execution_count": 14,
   "id": "157fd638-b5e8-4b37-8f5a-b6b0d8393f84",
   "metadata": {},
   "outputs": [
    {
     "name": "stdout",
     "output_type": "stream",
     "text": [
      "The sum is: 15\n"
     ]
    }
   ],
   "source": [
    "# 1. Write a Python function called add_numbers that takes two numbers as arguments and returns their sum. Then, test the function by calling it with two numbers of your choice.\n",
    "\n",
    "def add_numbers(x,y):\n",
    "    return x + y\n",
    "result = add_numbers(10,5)\n",
    "print(\"The sum is:\",result)\n"
   ]
  },
  {
   "cell_type": "markdown",
   "id": "d8a6d0de-fea5-4cdb-8747-74db64949ac2",
   "metadata": {},
   "source": [
    "2. Create a Python function called currency_converter() that takes two arguments:\n",
    "\n",
    "    - amount: The amount of money to be converted (in USD).\n",
    "    - exchange_rate (default is 280): The conversion rate from USD to another currency (e.g., PKR). You can assume the default rate is 1 USD = 280 PKR.\n",
    "\n",
    "    The function should return a message showing how much the given amount is worth in the target currency (PKR).\n",
    "   "
   ]
  },
  {
   "cell_type": "code",
   "execution_count": 21,
   "id": "f1fd4540-97e4-4df7-9948-30fc1d3c86af",
   "metadata": {},
   "outputs": [
    {
     "name": "stdout",
     "output_type": "stream",
     "text": [
      "$20 USD is equal to 5600 PKR at the rate of 280.\n"
     ]
    }
   ],
   "source": [
    "def currency_converter(amount,exchange_rate=280):\n",
    "    converted_amount=amount*exchange_rate\n",
    "    return f\"${amount} USD is equal to {converted_amount} PKR at the rate of {exchange_rate}.\"\n",
    "message=currency_converter(20)\n",
    "print(message)"
   ]
  },
  {
   "cell_type": "markdown",
   "id": "a69127cf-e186-48a3-a8d2-b6de3d0cc9f5",
   "metadata": {},
   "source": [
    "3. Write a Python function display_student_info that accepts the following details about a student:\n",
    "\n",
    "- name (Keyword argument): The name of the student.\n",
    "- age (Keyword argument): The age of the student.\n",
    "- grade (Keyword argument): The grade the student is in.\n",
    "- school (Keyword argument): The name of the school the student attends."
   ]
  },
  {
   "cell_type": "code",
   "execution_count": 30,
   "id": "2812bccb-5d25-4300-b11e-6c923c92c8cb",
   "metadata": {},
   "outputs": [
    {
     "name": "stdout",
     "output_type": "stream",
     "text": [
      "Name:Rafaay\n",
      "Age:24\n",
      "Grade:10th\n",
      "School:Jawan pakistan\n"
     ]
    }
   ],
   "source": [
    "def display_student_info(*,name,age,grade,school):\n",
    "    print(f\"Name:{name}\")\n",
    "    print(f\"Age:{age}\")\n",
    "    print(f\"Grade:{grade}\")\n",
    "    print(f\"School:{school}\")\n",
    "display_student_info(name=\"Rafaay\",age=24,grade=\"10th\",school=\"Jawan pakistan\")"
   ]
  },
  {
   "cell_type": "markdown",
   "id": "1c5f187b-475d-425e-8eb8-be9ea381094b",
   "metadata": {},
   "source": [
    "# 4. Write a Python function calculate_price that accepts two positional arguments:\n",
    "\n",
    "- price: The price of a single item.\n",
    "- quantity: The number of items bought.\n",
    "- The function should return the total price by multiplying price and quantity."
   ]
  },
  {
   "cell_type": "code",
   "execution_count": 35,
   "id": "1d14a13f-c1a2-45bd-80cb-a47a259fac5f",
   "metadata": {},
   "outputs": [
    {
     "name": "stdout",
     "output_type": "stream",
     "text": [
      "Total price: 2500\n"
     ]
    }
   ],
   "source": [
    "def calculate_price(price,quantity):\n",
    "    return price * quantity\n",
    "total=calculate_price(100,25)\n",
    "print(\"Total price:\",total)"
   ]
  },
  {
   "cell_type": "markdown",
   "id": "f94d7672-3d56-4026-b11f-3508d4f76dd4",
   "metadata": {},
   "source": [
    "5. Write a Python function display_prices that takes a product name and an arbitrary number of keyword arguments representing product prices. The function should display each product and its price.\n",
    "\n",
    "Product: Laptop\n",
    "\n",
    "Amazon: $800\n",
    "\n",
    "eBay: $750\n",
    "\n",
    "Walmart: $780"
   ]
  },
  {
   "cell_type": "code",
   "execution_count": 38,
   "id": "83c249ba-62ef-4644-9f8a-cad8d8736807",
   "metadata": {},
   "outputs": [
    {
     "name": "stdout",
     "output_type": "stream",
     "text": [
      "Product: Laptop\n",
      "Amazon: $800\n",
      "eBay: $750\n",
      "Walmart: $780\n"
     ]
    }
   ],
   "source": [
    "def display_prices(product,**prices):\n",
    "    print(f\"Product: {product}\")\n",
    "    for seller, price in prices.items():\n",
    "        print(f\"{seller}: ${price}\")\n",
    "display_prices(\n",
    "    \"Laptop\",\n",
    "    Amazon=800,\n",
    "    eBay=750,\n",
    "    Walmart=780\n",
    ")"
   ]
  },
  {
   "cell_type": "markdown",
   "id": "0e63d9d3-c969-4abf-9371-e46ba32b852a",
   "metadata": {},
   "source": [
    "6. Write a Python function find_max that takes any number of numerical arguments and returns the maximum number."
   ]
  },
  {
   "cell_type": "code",
   "execution_count": 45,
   "id": "034b862e-e373-4cd4-9d9d-c49fab6af0b2",
   "metadata": {},
   "outputs": [
    {
     "name": "stdout",
     "output_type": "stream",
     "text": [
      "The maximum number is: 90\n"
     ]
    }
   ],
   "source": [
    "def find_max(*numbers):\n",
    "    if not numbers:\n",
    "        return \"No number provided.\"\n",
    "    return max(numbers)\n",
    "result = find_max(11,73,18,90,66,55,10)\n",
    "print(\"The maximum number is:\",result)"
   ]
  },
  {
   "cell_type": "markdown",
   "id": "17d9320e-c8a8-4f50-9b5c-1a50e309f9de",
   "metadata": {},
   "source": [
    "7. Write a Python function display_info that takes:\n",
    "Positional arguments for the name and age of a person.\n",
    "Keyword arguments for other personal details like address, phone number, and email.\n",
    "Example Output:\n",
    "\n",
    "- Name: Alice\n",
    "- Age: 30\n",
    "- Other Details:\n",
    "    - address: 123 Main St\n",
    "    - phone: 123-456-7890\n",
    "    - email: alice@example.com"
   ]
  },
  {
   "cell_type": "code",
   "execution_count": 52,
   "id": "ac12c338-b83a-4a70-bf2d-86fae29b2763",
   "metadata": {},
   "outputs": [
    {
     "name": "stdout",
     "output_type": "stream",
     "text": [
      "-Name: Alice\n",
      "-Age: 30\n",
      "-Other Details:\n",
      " -address:123 Main St\n",
      " -phone:123-456-7890\n",
      " -email:alice@example.com\n"
     ]
    }
   ],
   "source": [
    "def display_info(name,age,**other_details):\n",
    "    print(f\"-Name: {name}\")\n",
    "    print(f\"-Age: {age}\")\n",
    "    print(f\"-Other Details:\")\n",
    "    for key, value in other_details.items():\n",
    "        print(f\" -{key}:{value}\")\n",
    "display_info(\n",
    "    \"Alice\",30,\n",
    "    address=\"123 Main St\",\n",
    "    phone=\"123-456-7890\",\n",
    "    email=\"alice@example.com\"\n",
    ")"
   ]
  },
  {
   "cell_type": "markdown",
   "id": "6e6b6886-79fe-4040-9441-629c44e17353",
   "metadata": {},
   "source": [
    "8. products = [ {\"name\": \"Laptop\", \"price\": 1200, \"in_stock\": True, \"discount\": 0.1}, {\"name\": \"Smartphone\", \"price\": 800, \"in_stock\": False, \"discount\": 0.05}, {\"name\": \"Headphones\", \"price\": 150, \"in_stock\": True, \"discount\": 0.2}, {\"name\": \"Smartwatch\", \"price\": 300, \"in_stock\": True, \"discount\": 0}, {\"name\": \"Keyboard\", \"price\": 100, \"in_stock\": True, \"discount\": 0.15} ]\n",
    "\n",
    "- Get names of in-stock products:\n",
    "\n",
    "*Use list comprehension to generate a list of names for the products that are in stock.\n",
    "\n",
    "- Calculate final prices for in-stock products after discount:\n",
    "\n",
    "*For products that have a discount, calculate the final price by applying the discount.\n",
    "\n",
    "*For products with no discount, keep the original price.\n",
    "\n",
    "- Generate a list of tuples with the product name and its final price.\n",
    "\n",
    "Example Output:\n",
    "\n",
    "- In-stock product names: ['Laptop', 'Headphones', 'Smartwatch', 'Keyboard']\n",
    "- Discounted prices: [('Laptop', 1080.0), ('Headphones', 120.0), ('Smartwatch', 300), ('Keyboard', 85.0)]"
   ]
  },
  {
   "cell_type": "code",
   "execution_count": 55,
   "id": "8ea25647-8014-446b-a2f6-3398c54ae18e",
   "metadata": {},
   "outputs": [
    {
     "name": "stdout",
     "output_type": "stream",
     "text": [
      "In-stock product names: ['Laptop', 'Headphones', 'Smartwatch', 'Keyboard']\n",
      "Discounted prices: [('Laptop', 1080.0), ('Headphones', 120.0), ('Smartwatch', 300), ('Keyboard', 85.0)]\n"
     ]
    }
   ],
   "source": [
    "products = [\n",
    "    {\"name\": \"Laptop\", \"price\": 1200, \"in_stock\": True, \"discount\": 0.1},\n",
    "    {\"name\": \"Smartphone\", \"price\": 800, \"in_stock\": False, \"discount\": 0.05},\n",
    "    {\"name\": \"Headphones\", \"price\": 150, \"in_stock\": True, \"discount\": 0.2},\n",
    "    {\"name\": \"Smartwatch\", \"price\": 300, \"in_stock\": True, \"discount\": 0},\n",
    "    {\"name\": \"Keyboard\", \"price\": 100, \"in_stock\": True, \"discount\": 0.15}\n",
    "]\n",
    "#Get names of in-stock products\n",
    "in_stock_names = [product[\"name\"] for product in products if product[\"in_stock\"]]\n",
    "\n",
    "#Calculate final prices for in-stock products after discount\n",
    "discounted_prices = [\n",
    "    (\n",
    "        product[\"name\"],\n",
    "        round(product[\"price\"] * (1 - product[\"discount\"]), 2)\n",
    "    )\n",
    "    for product in products if product[\"in_stock\"]\n",
    "]\n",
    "print(\"In-stock product names:\", in_stock_names)\n",
    "print(\"Discounted prices:\", discounted_prices)"
   ]
  },
  {
   "cell_type": "markdown",
   "id": "fd560c28-e8b9-4658-ac15-fd32c6ae9f08",
   "metadata": {},
   "source": [
    "9.Create a list of even numbers between 1 and 20. (List Comprehension)"
   ]
  },
  {
   "cell_type": "code",
   "execution_count": 58,
   "id": "4d66c709-4db6-4d60-aff0-24283203824c",
   "metadata": {},
   "outputs": [
    {
     "name": "stdout",
     "output_type": "stream",
     "text": [
      "Even numbers between 1 and 20: [2, 4, 6, 8, 10, 12, 14, 16, 18, 20]\n"
     ]
    }
   ],
   "source": [
    "even_numbers = [num for num in range(1, 21) if num % 2 == 0]\n",
    "print(\"Even numbers between 1 and 20:\", even_numbers)"
   ]
  },
  {
   "cell_type": "markdown",
   "id": "3acddc80-a80f-400e-ab97-1207b0da83fc",
   "metadata": {},
   "source": [
    "10. Create a list of numbers, generate a new list containing only the numbers that are divisible by 3 or 5. (List Comprehension)"
   ]
  },
  {
   "cell_type": "code",
   "execution_count": 61,
   "id": "0a321eeb-fde6-4b90-8ece-4621a0a2f687",
   "metadata": {},
   "outputs": [
    {
     "name": "stdout",
     "output_type": "stream",
     "text": [
      "Numbers divisible by 3 or 5: [3, 5, 6, 9, 10, 12, 15, 18, 20, 21, 24, 25, 27, 30, 33, 35, 36, 39, 40, 42, 45, 48, 50]\n"
     ]
    }
   ],
   "source": [
    "# list of numbers\n",
    "numbers = list(range(1, 51)) \n",
    "# List comprehension to filter numbers divisible by 3 or 5\n",
    "divisible_by_3_or_5 = [num for num in numbers if num % 3 == 0 or num % 5 == 0]\n",
    "print(\"Numbers divisible by 3 or 5:\", divisible_by_3_or_5)"
   ]
  },
  {
   "cell_type": "code",
   "execution_count": null,
   "id": "4ccc47ab-81c5-4e5f-90cd-0cad79fe1a14",
   "metadata": {},
   "outputs": [],
   "source": []
  }
 ],
 "metadata": {
  "kernelspec": {
   "display_name": "Python [conda env:base] *",
   "language": "python",
   "name": "conda-base-py"
  },
  "language_info": {
   "codemirror_mode": {
    "name": "ipython",
    "version": 3
   },
   "file_extension": ".py",
   "mimetype": "text/x-python",
   "name": "python",
   "nbconvert_exporter": "python",
   "pygments_lexer": "ipython3",
   "version": "3.12.7"
  }
 },
 "nbformat": 4,
 "nbformat_minor": 5
}
