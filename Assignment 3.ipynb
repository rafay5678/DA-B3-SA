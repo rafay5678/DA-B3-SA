{
 "cells": [
  {
   "cell_type": "markdown",
   "id": "537f9cb0-7021-4851-bde3-68606ae09a40",
   "metadata": {},
   "source": [
    "#Question 1: Age Group Classification\n",
    "\n",
    "Write a Python program that takes the age of a person as input and classifies them into one of the following age groups:\n",
    "\n",
    "\"Child\" if the age is between 0 and 12 (inclusive).\n",
    "\n",
    "\"Teenager\" if the age is between 13 and 19 (inclusive).\n",
    "\n",
    "\"Adult\" if the age is between 20 and 64 (inclusive).\n",
    "\n",
    "\"Senior\" if the age is 65 or older."
   ]
  },
  {
   "cell_type": "code",
   "execution_count": 2,
   "id": "8f5184e6-b819-4ef4-aac2-0957a2c24bee",
   "metadata": {},
   "outputs": [
    {
     "name": "stdin",
     "output_type": "stream",
     "text": [
      "Enter Age:  25\n"
     ]
    },
    {
     "name": "stdout",
     "output_type": "stream",
     "text": [
      "Adult\n"
     ]
    }
   ],
   "source": [
    "age=int(input(\"Enter Age: \"))\n",
    "if age < 0 :\n",
    "    print (\"Age is not negative\")\n",
    "elif age >= 0 and age <= 12:\n",
    "    print(\"Child\")\n",
    "elif age >=13 and age <= 19:\n",
    "    print(\"Teenager\")\n",
    "elif age >=20 and age <= 64:\n",
    "    print(\"Adult\")\n",
    "else:\n",
    "    print(\"Senior\")"
   ]
  },
  {
   "cell_type": "code",
   "execution_count": 4,
   "id": "0a842f1f-3bef-4d93-9a0a-9bdc55f49b90",
   "metadata": {},
   "outputs": [
    {
     "name": "stdin",
     "output_type": "stream",
     "text": [
      "Enter your Email Address rafay,sadiq017@gmail.com\n"
     ]
    },
    {
     "name": "stdout",
     "output_type": "stream",
     "text": [
      "Email format is valid\n"
     ]
    }
   ],
   "source": [
    "#Q2. Write a Python program that asks the user to enter an email address. The program should check if the email contains the characters @ and \".\" (ignoring case). If either character is present, print \"Email format is valid.\" Otherwise, print \"Invalid email format.\"\n",
    "\n",
    "email_address=str(input(\"Enter your Email Address\"))\n",
    "if \"@\" in email_address and \".\" in email_address:\n",
    "    print(\"Email format is valid\")\n",
    "else:\n",
    "    print(\"Invalid Email format\")"
   ]
  },
  {
   "cell_type": "code",
   "execution_count": 6,
   "id": "e7710bee-6148-4934-920d-fc3ca64fc70d",
   "metadata": {},
   "outputs": [
    {
     "name": "stdin",
     "output_type": "stream",
     "text": [
      "Enter 1st number 25\n",
      "Enter 2nd number 36\n",
      "Enter 3rd number 42\n"
     ]
    },
    {
     "name": "stdout",
     "output_type": "stream",
     "text": [
      "The largest number is:  42.0\n"
     ]
    }
   ],
   "source": [
    "#Q3. Write a Python program that takes three numbers as input and determines the largest among them. Also, check if any or all of the numbers are equal.\"\n",
    "\n",
    "\n",
    "num1=float(input(\"Enter 1st number\"))\n",
    "num2=float(input(\"Enter 2nd number\"))\n",
    "num3=float(input(\"Enter 3rd number\"))\n",
    "if num1==num2==num3:\n",
    "    print(\"All three numbers are equal\")\n",
    "elif num1 ==num2 or num2==num3 or num3== num1:\n",
    "    print (\"some of all enter number are same\")\n",
    "    largest =max(num1,num2,num3) \n",
    "    print(\"The largest number is: \", largest)\n",
    "else:\n",
    "    largest =max(num1,num2,num3)\n",
    "    print(\"The largest number is: \", largest  ) "
   ]
  },
  {
   "cell_type": "markdown",
   "id": "2406f095-0b1d-491d-8dbd-ca12082d60fd",
   "metadata": {},
   "source": [
    "#Q4. Write a Python program that:\n",
    "\n",
    "Asks the user to enter a number.\n",
    "\n",
    "Checks whether the number is positive.\n",
    "\n",
    "If yes, further check if it's even or odd.\n",
    "\n",
    "Print \"The number is positive and even\" if divisible by 2.\n",
    "\n",
    "Print \"The number is positive and odd\" if not divisible by 2.\n",
    "\n",
    "If the number is zero or negative, print \"The number is not positive\"."
   ]
  },
  {
   "cell_type": "code",
   "execution_count": 10,
   "id": "e9fc68b2-c192-468b-9148-e44804dd3cde",
   "metadata": {},
   "outputs": [
    {
     "name": "stdin",
     "output_type": "stream",
     "text": [
      "Enter a number 20\n"
     ]
    },
    {
     "name": "stdout",
     "output_type": "stream",
     "text": [
      "The number is positive and even\n"
     ]
    }
   ],
   "source": [
    "number=int(input(\"Enter a number\"))\n",
    "if number>0:\n",
    "    if number % 2 == 0:\n",
    "        print(\"The number is positive and even\")\n",
    "    else:\n",
    "        print(\"The number is positive and odd\")\n",
    "else:\n",
    "    print(\"The number is not positive\")\n"
   ]
  },
  {
   "cell_type": "markdown",
   "id": "a86f8c7b-16d4-43db-b2a5-547f921dbcf3",
   "metadata": {},
   "source": [
    "Q5. Ask the user for a username and password. Check if the username is correct. If it is, then check if the password is correct. If both are correct, print \"Access granted\".\n",
    "\n",
    "username = \"admin\"\n",
    "\n",
    "password = \"1234\"\n"
   ]
  },
  {
   "cell_type": "code",
   "execution_count": 15,
   "id": "2a7ee3fc-ed90-4d14-a63d-62e12fb6007a",
   "metadata": {},
   "outputs": [
    {
     "name": "stdin",
     "output_type": "stream",
     "text": [
      "Enter correct username admin\n",
      "Enter correct password 1234\n"
     ]
    },
    {
     "name": "stdout",
     "output_type": "stream",
     "text": [
      "Access Granted\n"
     ]
    }
   ],
   "source": [
    "username = \"admin\"\n",
    "password = \"1234\"\n",
    "enter_username = str(input(\"Enter correct username\"))\n",
    "enter_password = str(input(\"Enter correct password\"))\n",
    "if enter_username == username:\n",
    "    if enter_password == password:\n",
    "        print(\"Access Granted\")\n",
    "    else:\n",
    "        print(\"Wrong Password \\n Enter correct Password\")\n",
    "else:\n",
    "        print(\"Wrong username \\n Enter correct username\")\n"
   ]
  },
  {
   "cell_type": "markdown",
   "id": "7081085b-c26f-4813-8ae4-8796ff0591d7",
   "metadata": {},
   "source": [
    "#Q6. Take an integer input from the user and check whether the entered value exists in the tuple my_tuple = (5, 10, 15, 20, 25). Print an appropriate message based on the result.\n",
    "\n",
    "\n"
   ]
  },
  {
   "cell_type": "code",
   "execution_count": 20,
   "id": "ef16bcc6-d0e7-472c-9bb0-b7338d3030bf",
   "metadata": {},
   "outputs": [
    {
     "name": "stdin",
     "output_type": "stream",
     "text": [
      "Enter a integer number 25\n"
     ]
    },
    {
     "name": "stdout",
     "output_type": "stream",
     "text": [
      "25 is present in my_tuple\n"
     ]
    }
   ],
   "source": [
    "my_tuple = (5, 10, 15, 20, 25)\n",
    "user_input=int(input(\"Enter a integer number\"))\n",
    "if user_input in my_tuple:\n",
    "    print(user_input, \"is present in my_tuple\")\n",
    "else:\n",
    "    print(user_input, \"is not present in my_tuple\" )"
   ]
  },
  {
   "cell_type": "markdown",
   "id": "111bb428-05f6-47ad-8438-2f6cbc7efdcf",
   "metadata": {},
   "source": [
    "Q7. Create a program that takes the user's first name, last name, and age as input, packs them into a tuple, and prints the tuple.\n"
   ]
  },
  {
   "cell_type": "code",
   "execution_count": 25,
   "id": "d8df7f36-2f2c-4b43-a609-3512b6bdb0e1",
   "metadata": {},
   "outputs": [
    {
     "name": "stdin",
     "output_type": "stream",
     "text": [
      "Enter First name Abdul Rafay\n",
      "Enter last name Sadiq\n",
      "Enter ypur age 25\n"
     ]
    },
    {
     "name": "stdout",
     "output_type": "stream",
     "text": [
      "('Abdul Rafay', 'Sadiq', 25.0)\n"
     ]
    }
   ],
   "source": [
    "first_name=str(input(\"Enter First name\"))\n",
    "last_name=str(input(\"Enter last name\"))\n",
    "age=float(input(\"Enter ypur age\"))\n",
    "bio_tuple = (first_name,last_name, age)\n",
    "print(bio_tuple)"
   ]
  },
  {
   "cell_type": "markdown",
   "id": "57278014-5d92-4cf3-8e1c-d0e7c513432a",
   "metadata": {},
   "source": [
    "Q8. Given the tuple coordinates = (4, 5, 6), unpack the elements of the tuple into three variables x, y, and z. Then, calculate and print the sum of the variables.\n"
   ]
  },
  {
   "cell_type": "code",
   "execution_count": 28,
   "id": "1a27f986-5a53-488e-84db-50e43fdbbabc",
   "metadata": {},
   "outputs": [
    {
     "name": "stdout",
     "output_type": "stream",
     "text": [
      "sum of all three variables is :  15\n"
     ]
    }
   ],
   "source": [
    "coordinates = (4, 5, 6)\n",
    "x,y,z = coordinates\n",
    "addition = (x+y+z)\n",
    "print(\"sum of all three variables is : \", addition)"
   ]
  },
  {
   "cell_type": "markdown",
   "id": "dbc3be01-dc52-4837-a54f-dbdde7cc9fe4",
   "metadata": {},
   "source": [
    "Q9. Given the tuple my_tuple = (1, 2, 3, 4, 5), remove the element 3 from the tuple by first converting it to a list, and then print the resulting tuple."
   ]
  },
  {
   "cell_type": "code",
   "execution_count": 31,
   "id": "cf6bc9f7-9589-484c-b33c-98c3c68d43a4",
   "metadata": {},
   "outputs": [
    {
     "name": "stdout",
     "output_type": "stream",
     "text": [
      "Element 3 is removed from tuple:  (1, 2, 4, 5)\n"
     ]
    }
   ],
   "source": [
    "my_tuple = (1, 2, 3, 4, 5)\n",
    "temp_list=list(my_tuple)\n",
    "temp_list.remove(3)\n",
    "updated_tuple= tuple(temp_list)\n",
    "print(\"Element 3 is removed from tuple: \", updated_tuple)"
   ]
  },
  {
   "cell_type": "markdown",
   "id": "4cde3205-9c70-42c0-b7f3-8f8eedfc3c70",
   "metadata": {},
   "source": [
    "Q10. Given the tuple numbers = (10, 20, 5, 30, 15), find and print the maximum and minimum values in the tuple."
   ]
  },
  {
   "cell_type": "code",
   "execution_count": 34,
   "id": "6c0c39b2-d687-4700-b3b0-f19742cb142c",
   "metadata": {},
   "outputs": [
    {
     "name": "stdout",
     "output_type": "stream",
     "text": [
      "Maximum value in given tuple is :  30\n",
      "Minimum value in given tuple is :  5\n"
     ]
    }
   ],
   "source": [
    "numbers = (10, 20, 5, 30, 15)\n",
    "#Maximum Value in Tuple\n",
    "print(\"Maximum value in given tuple is : \", max(numbers))\n",
    "#Minimum value in Tuple\n",
    "print(\"Minimum value in given tuple is : \", min(numbers))\n"
   ]
  },
  {
   "cell_type": "code",
   "execution_count": null,
   "id": "f952158c-0023-45b8-a704-1b1f73c3efa0",
   "metadata": {},
   "outputs": [],
   "source": []
  }
 ],
 "metadata": {
  "kernelspec": {
   "display_name": "Python [conda env:base] *",
   "language": "python",
   "name": "conda-base-py"
  },
  "language_info": {
   "codemirror_mode": {
    "name": "ipython",
    "version": 3
   },
   "file_extension": ".py",
   "mimetype": "text/x-python",
   "name": "python",
   "nbconvert_exporter": "python",
   "pygments_lexer": "ipython3",
   "version": "3.12.7"
  }
 },
 "nbformat": 4,
 "nbformat_minor": 5
}
