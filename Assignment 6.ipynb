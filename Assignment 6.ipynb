{
 "cells": [
  {
   "cell_type": "markdown",
   "id": "96240b40-deb3-43de-a0ef-514c23ad1d0e",
   "metadata": {},
   "source": [
    "#Question 1\n"
   ]
  },
  {
   "cell_type": "code",
   "execution_count": 2,
   "id": "24121294-15d9-4971-8ab0-6bb699c55d58",
   "metadata": {},
   "outputs": [
    {
     "name": "stdout",
     "output_type": "stream",
     "text": [
      "Hello, my name is John and I am 35 years old.\n",
      "Employee M123 is working in HR department.\n",
      "Manager John is managing the team in the HR department.\n"
     ]
    }
   ],
   "source": [
    "class Person:\n",
    "    def __init__(self, name, age):\n",
    "        self.name = name\n",
    "        self.age = age\n",
    "\n",
    "    def introduce(self):\n",
    "        print(f\"Hello, my name is {self.name} and I am {self.age} years old.\")\n",
    "class Employee:\n",
    "    def __init__(self, employee_id, department):\n",
    "        self.employee_id = employee_id\n",
    "        self.department = department\n",
    "\n",
    "    def work(self):\n",
    "        print(f\"Employee {self.employee_id} is working in {self.department} department.\")\n",
    "class Manager(Person, Employee):\n",
    "    def __init__(self, name, age, employee_id, department):\n",
    "        # Initialize both parent classes\n",
    "        Person.__init__(self, name, age)\n",
    "        Employee.__init__(self, employee_id, department)\n",
    "\n",
    "    def manage(self):\n",
    "        print(f\"Manager {self.name} is managing the team in the {self.department} department.\")\n",
    "\n",
    "manager = Manager(\"John\", 35, \"M123\", \"HR\")\n",
    "manager.introduce()\n",
    "manager.work()\n",
    "manager.manage()"
   ]
  },
  {
   "cell_type": "markdown",
   "id": "8fe6d073-e262-474b-9f9d-57b4e77df6a2",
   "metadata": {},
   "source": [
    "#Ques 2"
   ]
  },
  {
   "cell_type": "code",
   "execution_count": 7,
   "id": "5d61b198-23d5-4f69-bb7f-8baaceb09f73",
   "metadata": {},
   "outputs": [
    {
     "name": "stdout",
     "output_type": "stream",
     "text": [
      "Hello!\n",
      "Hello, John!\n",
      "Good morning, John!\n"
     ]
    }
   ],
   "source": [
    "class Greeting:\n",
    "    def greet(self, *args):\n",
    "        if len(args) == 0:\n",
    "            print(\"Hello!\")\n",
    "        elif len(args) == 1:\n",
    "            print(f\"Hello, {args[0]}!\")\n",
    "        elif len(args) == 2:\n",
    "            print(f\"{args[1]}, {args[0]}!\")\n",
    "        else:\n",
    "            print(\"Too many arguments passed!\")\n",
    "\n",
    "#Creating an object og Greeting\n",
    "g = Greeting()\n",
    "\n",
    "#Demonstrate polymaric behavior\n",
    "g.greet()                    # No arguments\n",
    "g.greet(\"John\")              # One argument\n",
    "g.greet(\"John\", \"Good morning\")  # Two arguments"
   ]
  },
  {
   "cell_type": "markdown",
   "id": "c76cfc74-b39b-4398-bbe8-ac1c9148fa42",
   "metadata": {},
   "source": [
    "#Question 3\n"
   ]
  },
  {
   "cell_type": "code",
   "execution_count": 14,
   "id": "8404fdb8-073f-412e-84a8-fec1249737ee",
   "metadata": {},
   "outputs": [
    {
     "name": "stdout",
     "output_type": "stream",
     "text": [
      "PIN validated successfully.\n",
      "Invalid PIN.\n",
      "PIN changed successfully.\n",
      "New PIN must be a 4-digit number.\n",
      "Incorrect old PIN. PIN not changed.\n"
     ]
    }
   ],
   "source": [
    "class SecuritySystem:\n",
    "    def __init__(self, pin):\n",
    "        self.__pin = pin  # Private attribute\n",
    "\n",
    "    def validate_pin(self, pin):\n",
    "        if pin == self.__pin:\n",
    "            print(\"PIN validated successfully.\")\n",
    "            return True\n",
    "        else:\n",
    "            print(\"Invalid PIN.\")\n",
    "            return False\n",
    "\n",
    "    def change_pin(self, old_pin, new_pin):\n",
    "        if old_pin != self.__pin:\n",
    "            print(\"Incorrect old PIN. PIN not changed.\")\n",
    "            return\n",
    "        if not (isinstance(new_pin, int) and 1000 <= new_pin <= 9999):\n",
    "            print(\"New PIN must be a 4-digit number.\")\n",
    "            return\n",
    "        self.__pin = new_pin\n",
    "        print(\"PIN changed successfully.\")\n",
    "\n",
    "# Demonstration\n",
    "system = SecuritySystem(1234)\n",
    "\n",
    "# Test cases\n",
    "system.validate_pin(1234)          # Correct PIN\n",
    "system.validate_pin(1111)          # Incorrect PIN\n",
    "system.change_pin(1234, 5678)      # Correct old PIN, valid new PIN\n",
    "system.change_pin(5678, 999)       # Correct old PIN, invalid new PIN\n",
    "system.change_pin(1111, 8888)      # Incorrect old PIN"
   ]
  },
  {
   "cell_type": "markdown",
   "id": "72021e9c-d94b-4baf-930c-d134c48a31cf",
   "metadata": {},
   "source": [
    "#Question 4"
   ]
  },
  {
   "cell_type": "code",
   "execution_count": 17,
   "id": "47508ccf-dfc0-4b10-8516-167f1b4e5230",
   "metadata": {},
   "outputs": [
    {
     "name": "stdout",
     "output_type": "stream",
     "text": [
      "Area of Circle: 78.5\n",
      "Area of Rectangle: 24\n"
     ]
    }
   ],
   "source": [
    "from abc import ABC, abstractmethod\n",
    "import math\n",
    "\n",
    "# Abstract class\n",
    "class Shape(ABC):\n",
    "    @abstractmethod\n",
    "    def area(self):\n",
    "        pass\n",
    "\n",
    "# Circle class\n",
    "class Circle(Shape):\n",
    "    def __init__(self, radius):\n",
    "        self.radius = radius\n",
    "\n",
    "    def area(self):\n",
    "        return round(math.pi * self.radius ** 2, 1)\n",
    "\n",
    "# Rectangle class\n",
    "class Rectangle(Shape):\n",
    "    def __init__(self, width, height):\n",
    "        self.width = width\n",
    "        self.height = height\n",
    "\n",
    "    def area(self):\n",
    "        return self.width * self.height\n",
    "\n",
    "# Create instances and calculate areas\n",
    "circle = Circle(5)\n",
    "rectangle = Rectangle(4, 6)\n",
    "\n",
    "print(\"Area of Circle:\", circle.area())\n",
    "print(\"Area of Rectangle:\", rectangle.area())"
   ]
  },
  {
   "cell_type": "markdown",
   "id": "6aea83ba-df56-4bde-8cc0-a0f858222c1f",
   "metadata": {},
   "source": [
    "#Question 5"
   ]
  },
  {
   "cell_type": "code",
   "execution_count": 22,
   "id": "bbb6ea73-ed4a-4476-b675-e5ca3c51eb1a",
   "metadata": {},
   "outputs": [
    {
     "name": "stdout",
     "output_type": "stream",
     "text": [
      "Sending email\n",
      "Sending SMS\n"
     ]
    }
   ],
   "source": [
    "# Base class\n",
    "class Notification:\n",
    "    def send(self):\n",
    "        print(\"Sending notification\")\n",
    "\n",
    "# Subclass for email\n",
    "class EmailNotification(Notification):\n",
    "    def send(self):\n",
    "        print(\"Sending email\")\n",
    "\n",
    "# Subclass for SMS\n",
    "class SMSNotification(Notification):\n",
    "    def send(self):\n",
    "        print(\"Sending SMS\")\n",
    "\n",
    "# Demonstration\n",
    "email = EmailNotification()\n",
    "sms = SMSNotification()\n",
    "\n",
    "email.send()  # Calls overridden method in EmailNotification\n",
    "sms.send()    # Calls overridden method in SMSNotification"
   ]
  },
  {
   "cell_type": "code",
   "execution_count": null,
   "id": "abb8f6dc-2226-444f-9a4a-f0460c0e7177",
   "metadata": {},
   "outputs": [],
   "source": []
  }
 ],
 "metadata": {
  "kernelspec": {
   "display_name": "Python [conda env:base] *",
   "language": "python",
   "name": "conda-base-py"
  },
  "language_info": {
   "codemirror_mode": {
    "name": "ipython",
    "version": 3
   },
   "file_extension": ".py",
   "mimetype": "text/x-python",
   "name": "python",
   "nbconvert_exporter": "python",
   "pygments_lexer": "ipython3",
   "version": "3.12.7"
  }
 },
 "nbformat": 4,
 "nbformat_minor": 5
}
